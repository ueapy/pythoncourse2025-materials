{
 "cells": [
  {
   "cell_type": "markdown",
   "metadata": {},
   "source": [
    "# Jupyter Notebook"
   ]
  },
  {
   "cell_type": "markdown",
   "metadata": {},
   "source": [
    "* The Jupyter Notebook is an interactive environment for writing and running code."
   ]
  },
  {
   "cell_type": "markdown",
   "metadata": {},
   "source": [
    "* The notebook is capable of running code in a wide range of languages."
   ]
  },
  {
   "cell_type": "markdown",
   "metadata": {},
   "source": [
    "* However, each notebook is associated with a single kernel. This notebook is associated with the IPython kernel, therefore it runs Python code."
   ]
  },
  {
   "cell_type": "markdown",
   "metadata": {},
   "source": [
    "## Showcase: 2017 Nobel Prize in Physics"
   ]
  },
  {
   "cell_type": "markdown",
   "metadata": {},
   "source": [
    "[...] to three leaders of the decades-long project \"for decisive contributions to the LIGO detector and the observation of gravitational"
   ]
  },
  {
   "cell_type": "markdown",
   "metadata": {},
   "source": [
    "To communicate to the broader community, the LIGO/VIRGO Collaboration has created tutorials with Jupyter Notebooks that describe how to use LIGO/VIRGO data and reproduce analyses related to their academic publications. Most notably, they published a tutorial for working with Binary Black Hole Data."
   ]
  },
  {
   "cell_type": "markdown",
   "metadata": {},
   "source": [
    "https://losc.ligo.org/s/events/GW150914/GW150914_tutorial.html"
   ]
  },
  {
   "cell_type": "markdown",
   "metadata": {
    "slideshow": {
     "slide_type": "-"
    }
   },
   "source": [
    "## Notebook Cells\n",
    "\n",
    "- A Notebook is a series of \"cells\".\n",
    "- Select a cell by clicking to the left of it (click within the cell for edit mode: see below)\n",
    "- The active cell has an outline around it. Note: if you click the blue line then it will shrink it (click again to expand).\n",
    "- Run a cell using `shift+Enter` (or 'Run --> Run Selected Cell' in the file menu bar)\n",
    "- Navigate to different cells with the arrow keys.\n",
    "- A cell can be either be code, markdown, or \"raw\".\n",
    "    - Code:\n",
    "        - Python\n",
    "        - R\n",
    "        - Julia\n",
    "        - [Many Others](https://github.com/ipython/ipython/wiki/IPython-kernels-for-other-languages)\n",
    "    - Markdown:\n",
    "        - Otherwise known as a header (see below)\n",
    "    - Raw:\n",
    "        - The cell remains as raw text, without any interpretation once run\n",
    "- Create cells from the Notebook menu or using keyboard shortcuts.\n",
    "    - `a`: Insert cell above current cell\n",
    "    - `b`: Insert new cell below current cell\n",
    "- Add a comment using #"
   ]
  },
  {
   "cell_type": "markdown",
   "metadata": {
    "slideshow": {
     "slide_type": "slide"
    }
   },
   "source": [
    "## Edit mode\n",
    "\n",
    "|             |Edit mode|Command mode|\n",
    "|--|--|--|\n",
    "|How to enter | `Enter`,<br> or double-click | `Esc` or `Ctrl-m` | \n",
    "|Cell border  |Green    |Blue        |\n",
    "|Action       | Type code or text | Notebook-level actions |"
   ]
  },
  {
   "cell_type": "code",
   "execution_count": null,
   "metadata": {},
   "outputs": [],
   "source": []
  },
  {
   "cell_type": "markdown",
   "metadata": {},
   "source": [
    "## Cell type\n",
    "\n",
    "A new cell is always of type \"Code\". To make write Markdown, it is necessary to change the type in the toolbar. See the difference."
   ]
  },
  {
   "cell_type": "markdown",
   "metadata": {},
   "source": [
    "# Heading 1\n",
    "## Heading 2\n",
    "\n",
    "2*10*1.5"
   ]
  },
  {
   "cell_type": "code",
   "execution_count": null,
   "metadata": {},
   "outputs": [],
   "source": [
    "2*10*1.5"
   ]
  },
  {
   "cell_type": "markdown",
   "metadata": {
    "slideshow": {
     "slide_type": "slide"
    }
   },
   "source": [
    "## Some shortcuts \n",
    "\n",
    "* `Ctrl`-`Enter`: Run Cell \n",
    "* `Shift`-`Enter`: Run cell, select cell below\n",
    "* `Alt`-`Enter`: Run Cell, insert new cell below\n",
    "\n",
    "While not in 'edit mode':\n",
    "* `a` : Insert cell (above active cell)\n",
    "* `b` : Insert cell (below active cell)\n",
    "* `dd` : Delete active cell (the same as VIM)\n",
    "* `Ctrl`-`s`: Save Notebook\n",
    "* `z` - undo last cell operation\n",
    "   - (not to be confused with ctrl-z: undoes last typed command within the active cell)\n",
    "* `i`: Interrupt kernel (press twice; can also be done in kernel --> interrupt Kernel in file menu bar).\n",
    "* `0`: Restart kernel (press twice; can also be done in kernel --> Restart Kernel in file menu bar)."
   ]
  },
  {
   "cell_type": "markdown",
   "metadata": {},
   "source": [
    "## 1 notebook 1 kernel\n",
    "\n",
    "Each notebook has a program, called the kernel, that stores the initialised variables in memory.\n",
    "\n",
    "The kernel is the engine that runs and manages the code, and can be stopped/restarted without affecting the contents of the notebook. \n"
   ]
  },
  {
   "cell_type": "code",
   "execution_count": null,
   "metadata": {},
   "outputs": [],
   "source": [
    "# We are defining some variables\n",
    "sometext = \"experiment\"\n",
    "somenumber = 1/3"
   ]
  },
  {
   "cell_type": "code",
   "execution_count": null,
   "metadata": {},
   "outputs": [],
   "source": [
    "# this is a ipython command (aka magic command, starts with %) that print the variables in the kernel\n",
    "%who"
   ]
  },
  {
   "cell_type": "markdown",
   "metadata": {},
   "source": [
    "Try restarting the kernel in the Kernel menu and running %who again\n",
    "\n",
    " * On the left toolbar, try \"Running Terminal and Kernels\" to monitor how many kernels are running\n",
    "\n",
    " * While a kernel is busy, it will show a filled circle on the upper right corner of the notebook"
   ]
  },
  {
   "cell_type": "code",
   "execution_count": null,
   "metadata": {},
   "outputs": [],
   "source": [
    "import time\n",
    "time.sleep(20)"
   ]
  },
  {
   "cell_type": "markdown",
   "metadata": {},
   "source": [
    "The output of each cell, or of all cells can be cleared. Try right-clicking on a cell."
   ]
  },
  {
   "cell_type": "markdown",
   "metadata": {
    "tags": []
   },
   "source": [
    "## Orderly run\n",
    "\n",
    "Each code cell shows on the left the order in which it has been run. e.g. first cell executed shows [1]\n",
    "\n",
    "The sequence in which the cells are run matters. Try this running these two cells..."
   ]
  },
  {
   "cell_type": "code",
   "execution_count": null,
   "metadata": {},
   "outputs": [],
   "source": [
    "a = 1\n",
    "b = 3"
   ]
  },
  {
   "cell_type": "code",
   "execution_count": null,
   "metadata": {},
   "outputs": [],
   "source": [
    "a = a * b\n",
    "print('a =',a)\n",
    "print('b =',b)"
   ]
  },
  {
   "cell_type": "markdown",
   "metadata": {},
   "source": [
    "If you rerun the cell above the results will keep changing. \n",
    "\n",
    "This can be avoided by running the whole notebook using the menu option:\n",
    "\n",
    "Kernel > \"Restart Kernel and Run All Cells\""
   ]
  },
  {
   "cell_type": "code",
   "execution_count": null,
   "metadata": {},
   "outputs": [],
   "source": [
    "# Now that we've added some more variables, let's have another look at the variable list, this time using a more comprehensive command\n",
    "%whos"
   ]
  },
  {
   "cell_type": "markdown",
   "metadata": {},
   "source": [
    "## Features"
   ]
  },
  {
   "cell_type": "markdown",
   "metadata": {},
   "source": [
    "### 1. Markdown syntax\n",
    " https://www.markdownguide.org/basic-syntax/\n",
    " \n",
    " # Heading 1\n",
    "##### Heading 5\n",
    "\n",
    "**bold**\n",
    "\n",
    "*italics*\n",
    "\n",
    "`code`\n",
    "\n",
    "    if this is code:\n",
    "        format output\n",
    "        \n",
    " * Bullet point\n",
    "     * sub point\n",
    " 1. Numbered list\n",
    " 1. numbered automatically\n",
    "     1. sub numbered point\n",
    "     \n"
   ]
  },
  {
   "cell_type": "markdown",
   "metadata": {},
   "source": [
    "### 2. Inline Documentation\n",
    "To open documentation\n",
    " * Press `Shift`-`Tab`whe cursor is next to function or object \n",
    "\n",
    "To open new help window\n",
    " * Help > Show Contextual Help"
   ]
  },
  {
   "cell_type": "code",
   "execution_count": null,
   "metadata": {},
   "outputs": [],
   "source": [
    "input"
   ]
  },
  {
   "cell_type": "markdown",
   "metadata": {},
   "source": [
    "### 3. Tab Completion (predictive and helpful!)\n",
    "\n",
    "Type `i` then `tab` and you should see a drop-down menu of choices."
   ]
  },
  {
   "cell_type": "code",
   "execution_count": null,
   "metadata": {},
   "outputs": [],
   "source": [
    "#i     # Tab activates auto-completion"
   ]
  },
  {
   "cell_type": "markdown",
   "metadata": {},
   "source": [
    "### 4. Run Shell Commands with \"!\""
   ]
  },
  {
   "cell_type": "code",
   "execution_count": null,
   "metadata": {},
   "outputs": [],
   "source": [
    "#!dir  # dir in windows, ls in linux and MacOS to list files in current directory. "
   ]
  },
  {
   "cell_type": "markdown",
   "metadata": {},
   "source": [
    "### 5. Remote Operations\n",
    "\n",
    "* You can run code both locally and remotely.\n",
    "* For example, you can connect to HPC via SSH protocol and run your code there."
   ]
  },
  {
   "cell_type": "markdown",
   "metadata": {},
   "source": [
    "### 6. Embed Images or Videos"
   ]
  },
  {
   "cell_type": "code",
   "execution_count": null,
   "metadata": {},
   "outputs": [],
   "source": [
    "from IPython.core.display import Image \n",
    "Image(url='http://python.org/images/python-logo.gif')"
   ]
  },
  {
   "cell_type": "code",
   "execution_count": null,
   "metadata": {},
   "outputs": [],
   "source": [
    "Image(url='https://upload.wikimedia.org/wikipedia/commons/3/38/Jupyter_logo.svg',width=200)\n"
   ]
  },
  {
   "cell_type": "code",
   "execution_count": null,
   "metadata": {},
   "outputs": [],
   "source": [
    "from IPython.lib.display import YouTubeVideo\n",
    "YouTubeVideo(\"mFP_AjJeP-M\")"
   ]
  },
  {
   "cell_type": "markdown",
   "metadata": {},
   "source": [
    "### 7. Load Remote Code - This is Very Cool and helpful! \n",
    "\n",
    "You can pull up remote code using magic command `load`"
   ]
  },
  {
   "cell_type": "code",
   "execution_count": null,
   "metadata": {},
   "outputs": [],
   "source": [
    "# %load https://matplotlib.org/_downloads/3958e02c30f3c9f9ed7a1cf34bfcf4ad/cohere.py\n",
    "\"\"\"\n",
    "=====================================\n",
    "Plotting the coherence of two signals\n",
    "=====================================\n",
    "\n",
    "An example showing how to plot the coherence of two signals.\n",
    "\"\"\"\n",
    "import numpy as np\n",
    "import matplotlib.pyplot as plt\n",
    "\n",
    "# Fixing random state for reproducibility\n",
    "np.random.seed(19680801)\n",
    "\n",
    "dt = 0.01\n",
    "t = np.arange(0, 30, dt)\n",
    "nse1 = np.random.randn(len(t))                 # white noise 1\n",
    "nse2 = np.random.randn(len(t))                 # white noise 2\n",
    "\n",
    "# Two signals with a coherent part at 10Hz and a random part\n",
    "s1 = np.sin(2 * np.pi * 10 * t) + nse1\n",
    "s2 = np.sin(2 * np.pi * 10 * t) + nse2\n",
    "\n",
    "fig, axs = plt.subplots(2, 1)\n",
    "axs[0].plot(t, s1, t, s2)\n",
    "axs[0].set_xlim(0, 2)\n",
    "axs[0].set_xlabel('time')\n",
    "axs[0].set_ylabel('s1 and s2')\n",
    "axs[0].grid(True)\n",
    "\n",
    "cxy, f = axs[1].cohere(s1, s2, 256, 1. / dt)\n",
    "axs[1].set_ylabel('coherence')\n",
    "\n",
    "fig.tight_layout()\n",
    "plt.show()\n"
   ]
  },
  {
   "cell_type": "markdown",
   "metadata": {},
   "source": [
    "Execute the imported code above to see the use of inline figures in the notebook."
   ]
  },
  {
   "cell_type": "markdown",
   "metadata": {},
   "source": [
    "## Debugging"
   ]
  },
  {
   "cell_type": "markdown",
   "metadata": {},
   "source": [
    "If some code doesn't work, it can be relatively easy to find the problem by looking at the variables and running individual lines of code"
   ]
  },
  {
   "cell_type": "code",
   "execution_count": null,
   "metadata": {},
   "outputs": [],
   "source": [
    "var1=4\n",
    "var2=3\n",
    "var3=var1*var2 - 12"
   ]
  },
  {
   "cell_type": "markdown",
   "metadata": {},
   "source": [
    "If you uncomment and run the following line, it will fail:"
   ]
  },
  {
   "cell_type": "code",
   "execution_count": null,
   "metadata": {},
   "outputs": [],
   "source": [
    "# sum_divide = var1/var3"
   ]
  },
  {
   "cell_type": "markdown",
   "metadata": {},
   "source": [
    "But if the operation takes place inside of a function, then it can be more difficult"
   ]
  },
  {
   "cell_type": "code",
   "execution_count": null,
   "metadata": {},
   "outputs": [],
   "source": [
    "def my_function(var4,var5):\n",
    "    var6=var4*var5 - 12\n",
    "    sum_divide = var4/var6\n",
    "    return sum_divide"
   ]
  },
  {
   "cell_type": "markdown",
   "metadata": {},
   "source": [
    "This line that runs the function will also fail"
   ]
  },
  {
   "cell_type": "code",
   "execution_count": null,
   "metadata": {},
   "outputs": [],
   "source": [
    "# output = my_function(4,3)"
   ]
  },
  {
   "cell_type": "markdown",
   "metadata": {},
   "source": [
    "But we can use the debug 'magic' command to inspect the variables in memory at the last place where the code failed"
   ]
  },
  {
   "cell_type": "code",
   "execution_count": null,
   "metadata": {},
   "outputs": [],
   "source": [
    "# NOTE: to exit the debugger, type `exit` in the prompt\n",
    "# %debug"
   ]
  },
  {
   "cell_type": "markdown",
   "metadata": {},
   "source": [
    "## Jupyterlab Launcher \n",
    "\n",
    "\"File > New\" or the \"+\" button on the File Browser, can start a new:\n",
    " * Console (line-by-line ipython)\n",
    " * Notebook (*.ipynb)\n",
    " * Terminal (operating system terminal)\n",
    " * Python file (*.py)\n",
    " \n",
    " etc...\n"
   ]
  },
  {
   "cell_type": "markdown",
   "metadata": {},
   "source": [
    "## Sharing Notebooks\n",
    "\n",
    "* The file itself is simply a `JSON` file which can be shared the same as any other file.\n"
   ]
  },
  {
   "cell_type": "markdown",
   "metadata": {},
   "source": [
    "* It is possible to save a notebook in various formats via the `File->Save and Export Notebook As...` menu.\n",
    "\n",
    "    - Asciidoc\n",
    "    - HTML\n",
    "    - LaTex\n",
    "    - Markdown\n",
    "    - Executable script\n",
    "    - PDF\n",
    "    - etc.\n"
   ]
  },
  {
   "cell_type": "markdown",
   "metadata": {},
   "source": [
    "* [GitHub](http://github.com)\n",
    "* [NBviewer](http://nbviewer.jupyter.org/)\n",
    "\n",
    "View (but not execute) Jupyter Notebooks\n"
   ]
  },
  {
   "cell_type": "markdown",
   "metadata": {},
   "source": [
    "* Cloud services to run Jupyter Notebook:\n",
    "    - [Binder](http://www.mybinder.org/)\n",
    "    - [Google Colab](https://colab.research.google.com/notebooks/)\n",
    "    - [Wakari](http://wakari.io)\n",
    "    - [SageMath](https://cloud.sagemath.com/)"
   ]
  },
  {
   "cell_type": "markdown",
   "metadata": {},
   "source": [
    "## Exercises\n",
    "\n",
    "Ex1:\n",
    "Create the following cells:\n",
    "\n",
    " * Level 2 Heading in Markdown\n",
    "\n",
    " * A simple calculation\n",
    " \n",
    " * A markdown cell explaining the calculation\n",
    " \n",
    " https://www.markdownguide.org/basic-syntax/"
   ]
  },
  {
   "cell_type": "markdown",
   "metadata": {},
   "source": [
    "## My calculation"
   ]
  },
  {
   "cell_type": "code",
   "execution_count": null,
   "metadata": {},
   "outputs": [],
   "source": [
    "int(13/3)"
   ]
  },
  {
   "cell_type": "markdown",
   "metadata": {},
   "source": [
    "The `int` function converts to an integer number."
   ]
  },
  {
   "cell_type": "markdown",
   "metadata": {},
   "source": [
    "## References\n",
    "* This Notebook was build upon materials from the Unidata Python Workshop https://github.com/Unidata/unidata-python-workshop"
   ]
  },
  {
   "cell_type": "code",
   "execution_count": null,
   "metadata": {},
   "outputs": [],
   "source": []
  },
  {
   "cell_type": "code",
   "execution_count": null,
   "metadata": {},
   "outputs": [],
   "source": []
  }
 ],
 "metadata": {
  "anaconda-cloud": {},
  "kernelspec": {
   "display_name": "Python [conda env:course2025] *",
   "language": "python",
   "name": "conda-env-course2025-py"
  },
  "language_info": {
   "codemirror_mode": {
    "name": "ipython",
    "version": 3
   },
   "file_extension": ".py",
   "mimetype": "text/x-python",
   "name": "python",
   "nbconvert_exporter": "python",
   "pygments_lexer": "ipython3",
   "version": "3.13.3"
  },
  "toc-autonumbering": false
 },
 "nbformat": 4,
 "nbformat_minor": 4
}
