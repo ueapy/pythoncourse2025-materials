{
 "cells": [
  {
   "cell_type": "markdown",
   "metadata": {},
   "source": [
    "# Build a simple program"
   ]
  },
  {
   "cell_type": "markdown",
   "metadata": {},
   "source": [
    "Through this exercise you will bring together a few Python basics that we've learned so far, including loops, lists, functions, and strings. \n",
    "\n",
    "In addition, you will try to write data output to a text file."
   ]
  },
  {
   "cell_type": "markdown",
   "metadata": {},
   "source": [
    "### Summary \n",
    "\n",
    "* Using your calc_co2e function from the previous lesson, create data of flight distance, and radiative forcing within some range.\n",
    "    * Functionalise the equation for $CO_2$ equivalent emissions (`co2e`)\n",
    "* In a loop, calculate the `co2e` with distance and radiative forcing as inputs\n",
    "* Open a new text file for writing\n",
    "* Loop over the function output and write the data to the file\n",
    "    * **Hint:** use string formatting to specify number of decimal places\n"
   ]
  },
  {
   "cell_type": "markdown",
   "metadata": {},
   "source": [
    "### Step 1. Create a list of flight distances"
   ]
  },
  {
   "cell_type": "markdown",
   "metadata": {},
   "source": [
    "We want to calculate the emissions for a range of flights. \n",
    "\n",
    "Create a list that contains the following values: \n",
    "\n",
    "* distance: 200-19000 km, with increments of 400 km\n"
   ]
  },
  {
   "cell_type": "markdown",
   "metadata": {},
   "source": [
    "**Hint:** use `range()` function and wrap it in a `list()` function.\n",
    "\n",
    "If you instead want to create lists of arbitrary values (e.g. non-integer), use `my_list = [ ]` notation."
   ]
  },
  {
   "cell_type": "code",
   "execution_count": null,
   "metadata": {},
   "outputs": [],
   "source": [
    "## Your code\n"
   ]
  },
  {
   "cell_type": "markdown",
   "metadata": {},
   "source": [
    "Print out the `distance` variable to check yourself."
   ]
  },
  {
   "cell_type": "code",
   "execution_count": null,
   "metadata": {},
   "outputs": [],
   "source": []
  },
  {
   "cell_type": "markdown",
   "metadata": {},
   "source": [
    "### Step 2. Create a function to calculate the $CO_2^{equiv}$ emissions"
   ]
  },
  {
   "cell_type": "markdown",
   "metadata": {},
   "source": [
    "This equation and function was introduced in **Notebook 8 - Defining Functions**. \n",
    "\n",
    "The input and output of the function is explained in the docstring. As a reminder, the formula to use is:\n",
    "\n",
    "$flight CO_2^{equiv} = dist \\times CO_2^{equiv}/km$\n",
    "\n",
    "Where the $CO_2^{equiv}/km$ (or emission factor) is dependent on the distance of the flight (i.e., short haul vs long haul). Both first class and return tickets also double the emissions. The radiative transfer effect (default=2.0) is already included in the function below but you can add the option for different value.\n",
    "\n",
    "Here, we can just copy the function produced during the previous lesson. However, if you fancy a challenge, you can always recreate it again..."
   ]
  },
  {
   "cell_type": "code",
   "execution_count": null,
   "metadata": {},
   "outputs": [],
   "source": [
    "def calc_co2e(dist,\n",
    "              returnf=False,\n",
    "              firstclass=False,\n",
    "              radforc=2.0,\n",
    "              ):\n",
    "    \"\"\"\n",
    "    calculate equivalent carbon emissions from flights\n",
    "    \n",
    "    Parameters\n",
    "    ==========\n",
    "    dist - flight distance in km\n",
    "    \n",
    "    Optional inputs\n",
    "    ---------------\n",
    "    returnf - Return flight (default=False)\n",
    "    firstclass - First class flight (default=False)\n",
    "    radforc - radiative forcing factor (default=2.0)\n",
    "    \n",
    "    Returns\n",
    "    =======\n",
    "    CO2 equivalent emissions in kg\n",
    "\n",
    "    Emission factors (kg CO2e/km)\n",
    "    https://flygrn.com/blog/carbon-emission-factors-used-by-flygrn\n",
    "    \n",
    "    0.26744  < 700 km \n",
    "    0.15845  700 – 2500\n",
    "    0.15119  > 2500 km \n",
    "    \"\"\"\n",
    " \n",
    "    \n",
    "    return co2e"
   ]
  },
  {
   "cell_type": "markdown",
   "metadata": {},
   "source": [
    "### Step 3. In a loop, calculate the co2 emissions with distance as input"
   ]
  },
  {
   "cell_type": "markdown",
   "metadata": {},
   "source": [
    "* First, create an empty list `co2e` for values\n",
    "* Then, write a loop\n",
    "* Every iteration:\n",
    "    * Calculate the $CO_2^{equiv}$\n",
    "    * Append the result to the `co2e` list"
   ]
  },
  {
   "cell_type": "code",
   "execution_count": null,
   "metadata": {},
   "outputs": [],
   "source": [
    "## Your code\n"
   ]
  },
  {
   "cell_type": "markdown",
   "metadata": {},
   "source": [
    "Print out `co2e` variable to check that the values are sensible."
   ]
  },
  {
   "cell_type": "code",
   "execution_count": null,
   "metadata": {},
   "outputs": [],
   "source": []
  },
  {
   "cell_type": "markdown",
   "metadata": {},
   "source": [
    "### Step 4. Write your results to a new text file"
   ]
  },
  {
   "cell_type": "markdown",
   "metadata": {},
   "source": [
    "First, you need to open a file. Explore the built-in function `open()`:"
   ]
  },
  {
   "cell_type": "code",
   "execution_count": null,
   "metadata": {},
   "outputs": [],
   "source": [
    "# open?\n"
   ]
  },
  {
   "cell_type": "markdown",
   "metadata": {},
   "source": [
    "The recommended way of writing/reading files using the built-in python functionality is using the context statement `with`. This makes sure that the whole block is excuted without interruption, and closes the file once complete.\n",
    "\n",
    "```python\n",
    "# example\n",
    "with open('super_descriptive_file_name', mode='r') as your_file:\n",
    "    your_file.read()\n",
    "```"
   ]
  },
  {
   "cell_type": "markdown",
   "metadata": {},
   "source": [
    "You can open files using different I/O modes, e.g.:\n",
    "* `mode='w'` means that we opened file for *writing*. **This mode overwrites any existing data.**\n",
    "* `mode='r'` - open a file for *reading*\n",
    "* `mode='a'` - open a file for *appending* data\n",
    "* `mode='x'` - open for exclusive creation, failing if the file already exists\n",
    "* `mode='b'` - binary mode"
   ]
  },
  {
   "cell_type": "markdown",
   "metadata": {},
   "source": [
    "#### Using this, we can now loop over the function output and write data the new file"
   ]
  },
  {
   "cell_type": "markdown",
   "metadata": {},
   "source": [
    "* Open a file named `co2e_emissions_from_flight.txt` for **writing**\n",
    "    * Use `with` statement\n",
    "* Inside the `with` code block, write a loop to iterate through the `co2e` values and write each of them on a new line\n",
    "    * Instead of `read()` as in the example above, use `write()` method\n",
    "    * **Note:** The `write()` method needs **string** type input\n",
    "        * You can convert numeric values to **string** type using `str()` function or, even better, [`f-strings`](05-Built-in-Scalar-Types.ipynb)\n",
    "    * **Hint:** Add \"\\n\" character to the string to indicate a line break"
   ]
  },
  {
   "cell_type": "code",
   "execution_count": null,
   "metadata": {},
   "outputs": [],
   "source": [
    "## Your code\n"
   ]
  },
  {
   "cell_type": "markdown",
   "metadata": {},
   "source": [
    "Use a text editor of your choice (or Jupyter!) to check the contents of the file."
   ]
  },
  {
   "cell_type": "code",
   "execution_count": null,
   "metadata": {},
   "outputs": [],
   "source": [
    "# On Windows:\n",
    "# !type co2e_emissions_from_flight.txt"
   ]
  },
  {
   "cell_type": "code",
   "execution_count": null,
   "metadata": {},
   "outputs": [],
   "source": [
    "# On UNIX:\n",
    "# !cat co2e_emissions_from_flight.txt"
   ]
  },
  {
   "cell_type": "markdown",
   "metadata": {},
   "source": [
    "[See solution](solutions/09-Ex-Build-A-Program-Solution.ipynb)"
   ]
  }
 ],
 "metadata": {
  "anaconda-cloud": {},
  "kernelspec": {
   "display_name": "Python [conda env:course2025] *",
   "language": "python",
   "name": "conda-env-course2025-py"
  },
  "language_info": {
   "codemirror_mode": {
    "name": "ipython",
    "version": 3
   },
   "file_extension": ".py",
   "mimetype": "text/x-python",
   "name": "python",
   "nbconvert_exporter": "python",
   "pygments_lexer": "ipython3",
   "version": "3.13.3"
  }
 },
 "nbformat": 4,
 "nbformat_minor": 4
}
