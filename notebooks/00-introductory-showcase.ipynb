{
 "cells": [
  {
   "cell_type": "markdown",
   "id": "752498d4-ca2a-4c55-83c9-c1cb9cdc636c",
   "metadata": {},
   "source": [
    "# An introductory showcase  "
   ]
  },
  {
   "cell_type": "markdown",
   "id": "ac5862b3-5882-49cc-bb36-efb2753ae379",
   "metadata": {},
   "source": [
    "## A quick overview of some useful high level python functionality that is covered in the course content"
   ]
  },
  {
   "cell_type": "markdown",
   "id": "f2e7fa5a-081f-42e3-a903-5c54530a58d4",
   "metadata": {},
   "source": [
    "The example specifically showcases some of python's usefulness in opening, handling, viewing and plotting data, using a sea ice concentration dataset as a test case. \n",
    "\n",
    "It is not necessary (or expected) for this to be understood yet -- the idea at this stage is to give some context to the course content coming up, and demonstrate how a lot can be achieved using a short and intuitive commands. I have added comments for completeness, but these concepts will make more sense in the individual lessions. In addition to the data handling described above, the example also relies on various commonly-used python features that will be covered in the course, such as:\n",
    "- The use of python packages, and their complementarity to each other\n",
    "- The object-oriented nature of python\n",
    "- Indexing in python\n",
    "- the use of text strings and their seamless use in indexing"
   ]
  },
  {
   "cell_type": "markdown",
   "id": "63ffdc6b-4b8c-4b69-858f-f2abbc792d49",
   "metadata": {},
   "source": [
    "### Load in python packages"
   ]
  },
  {
   "cell_type": "markdown",
   "id": "59bff9f9-601b-4d6b-89da-dc19eb516481",
   "metadata": {},
   "source": [
    "These each handle different things, such as reading and handling data (xarray; numpy), and plotting data (matplotlib; cartopy). These open-source packages are often developed to complement each other. "
   ]
  },
  {
   "cell_type": "code",
   "execution_count": null,
   "id": "2e6f5e23-deee-4791-8590-66f0bb4bbe0a",
   "metadata": {},
   "outputs": [],
   "source": [
    "import xarray as xr\n",
    "import matplotlib.pyplot as plt\n",
    "import cartopy.crs as ccrs\n",
    "import numpy as np"
   ]
  },
  {
   "cell_type": "markdown",
   "id": "8eb9ef4f-3610-4434-94bd-87d0feaeedf5",
   "metadata": {},
   "source": [
    "### Open a sea-ice dataset for September 1999"
   ]
  },
  {
   "cell_type": "markdown",
   "id": "a8f2b594-fba9-4abc-b8ac-bca522cc0ea6",
   "metadata": {},
   "source": [
    "Read a netcdf dataset using the xarray package. To do this we first call the package we want to use (in this case xarray, shortened to xr when we imported it above), then use its open_dataset functionality for reading the datafile (specified after a full stop. I.e. xr.open_dataset('/text/string/to/file/location'). "
   ]
  },
  {
   "cell_type": "markdown",
   "id": "71e8777f-9ea0-4ebb-beec-f8ef7865c378",
   "metadata": {},
   "source": [
    "These datasets can contain many variables (in this case, 8 different sea ice variables). The data is displayed below, and can be interacted with by clicking on the icons for more information about their data contents (e.g. variables and their coordinates) and their attributes/metadata (e.g. names, sources,  units, creators...). "
   ]
  },
  {
   "cell_type": "code",
   "execution_count": null,
   "id": "dbeae4b0-b193-4a57-8ff6-da2dc115e27d",
   "metadata": {},
   "outputs": [],
   "source": [
    "# sea ice variables for September 1999\n",
    "seaice_data_monthly_199109 = xr.open_dataset('../data/seaice_conc_monthly_nh_f08_199109_v02r00.nc')\n",
    "seaice_data_monthly_199109"
   ]
  },
  {
   "cell_type": "markdown",
   "id": "6b71aa82-4fd5-4310-a609-b834245c35fc",
   "metadata": {},
   "source": [
    "### Identify and plot a variable using its name "
   ]
  },
  {
   "cell_type": "markdown",
   "id": "d37cc5d0-eeda-476d-ad60-f19a4299dfe4",
   "metadata": {},
   "source": [
    "Select the seaice_conc_monthly_cdr variable, showing monthly sea ice concentration for that September 1999. Notice that it handles text easily, meaning we can directly use the name of the variable rather than a numbered index location. "
   ]
  },
  {
   "cell_type": "code",
   "execution_count": null,
   "id": "b4c6dece-749e-4522-b118-8edad6e07f73",
   "metadata": {},
   "outputs": [],
   "source": [
    "seaice_conc_199109 = seaice_data_monthly_199109['seaice_conc_monthly_cdr']"
   ]
  },
  {
   "cell_type": "markdown",
   "id": "8de51b74-df01-4e34-8370-44c4f14ebf6a",
   "metadata": {},
   "source": [
    "xarray has a lot of functionality, including methods for data manipulation and for directly plotting the data. "
   ]
  },
  {
   "cell_type": "code",
   "execution_count": null,
   "id": "b3712e28-5710-4454-8485-1ccc9c4abdf0",
   "metadata": {},
   "outputs": [],
   "source": [
    "# Use xarray's .plot() functionality to directly plot the data. \n",
    "# It automatically makes a 2D plot when given a 2D variable. It also automatically adds the names of variables, title & coordinates from the metadata\n",
    "seaice_conc_199109.plot() "
   ]
  },
  {
   "cell_type": "markdown",
   "id": "bf1ecfea-1e01-439d-b402-2b50b4bf68f4",
   "metadata": {},
   "source": [
    "### Now lets read in sea ice from a different year, for comparison. September 2012:"
   ]
  },
  {
   "cell_type": "code",
   "execution_count": null,
   "id": "89c5b133-3490-4b9b-9d84-4eee571b8f5e",
   "metadata": {},
   "outputs": [],
   "source": [
    "seaice_data_monthly_201209 = xr.open_dataset('../data/seaice_conc_monthly_nh_f17_201209_v02r00.nc')\n",
    "# And extract the sea ice concentration variable from it:\n",
    "seaice_conc_201209 = seaice_data_monthly_201209['seaice_conc_monthly_cdr']"
   ]
  },
  {
   "cell_type": "code",
   "execution_count": null,
   "id": "aab88e49-acf3-48b6-84aa-e9d561fed424",
   "metadata": {},
   "outputs": [],
   "source": [
    "# Now plot the change in sea ice extent\n",
    "plt.subplots(figsize=(5, 4))  # creates a figure of a particular size.\n",
    "sea_ice_change = (seaice_conc_201209.isel(time = 0) - seaice_conc_199109.isel(time = 0))\n",
    "sea_ice_change.plot()"
   ]
  },
  {
   "cell_type": "markdown",
   "id": "a5ea26d0-d35d-453b-9e37-82f852dce638",
   "metadata": {},
   "source": [
    "Now improve the projection using (lon, lat) on a polar projection instead of distances, and plot land. Uses the cartopy (ccrs) package, which complements the plotting. \n",
    "Notice that the ax.coastlines and ax.gridlines functions are called from directly from ax. It can do this because ax was created by the matplotlib (plt) package and so python knows that it is a matplotlib 'object' that comes with a set of callable functions. "
   ]
  },
  {
   "cell_type": "code",
   "execution_count": null,
   "id": "bead6447-d800-4270-9d77-506eb728868a",
   "metadata": {},
   "outputs": [],
   "source": [
    "new_projection = ccrs.NorthPolarStereo()  # set the cartopy (ccrs) NorthPolarStereo projection to new_projection\n",
    "fig, ax = plt.subplots(subplot_kw={'projection': new_projection}, figsize=(5, 4)) #  fig and ax are variables for the figure properties and individual axis properties. Used to specify features, such as the coastlines \n",
    "sea_ice_change.plot(x='longitude',y='latitude',transform=ccrs.PlateCarree()) # specify the 'longitude' and 'latitude' coordinates for the x and y dimensions. PlateCarree is the projection the data is on, which gets transformed to the new_projection\n",
    "ax.coastlines()\n",
    "ax.gridlines(draw_labels=True)\n",
    "plt.title('Sea Ice conc change, Sept 1999 - Sept 2012');"
   ]
  },
  {
   "cell_type": "markdown",
   "id": "132db6ef-da37-4028-910d-ef78d7b1df1e",
   "metadata": {},
   "source": [
    "## Now use python 'lists' to help us plot all variables in the dataset. "
   ]
  },
  {
   "cell_type": "markdown",
   "id": "7ed7c780-ef36-4c09-b887-39c56c22841d",
   "metadata": {},
   "source": [
    "This can save us having to type out all of the variables and their coordinates etc every time we want to open a dataset. For example, if we are reading in many datasets that we are unfamiliar with, we can use python's ability to handle text strings to output all variables in a dataset and plot them one by one, in each case automatically displaying their variable names and coordinates etc.  "
   ]
  },
  {
   "cell_type": "code",
   "execution_count": null,
   "id": "b783d652-6e68-468b-b8bc-a5854d907ed8",
   "metadata": {},
   "outputs": [],
   "source": [
    "# Create a list of all variables in the dataset. \n",
    "variable_list = seaice_data_monthly_201209.keys()"
   ]
  },
  {
   "cell_type": "code",
   "execution_count": null,
   "id": "61a04483-5b86-406d-9ecd-28baaad12623",
   "metadata": {},
   "outputs": [],
   "source": [
    "# Show these as a list\n",
    "list(variable_list)"
   ]
  },
  {
   "cell_type": "code",
   "execution_count": null,
   "id": "576b6074-fb2e-4bdd-8e0a-2059d3480f56",
   "metadata": {},
   "outputs": [],
   "source": [
    "# Plot all variables using a for loop over the variable list. \n",
    "Num_variables = len(seaice_data_monthly_201209)\n",
    "fig, ax = plt.subplots(nrows=round(Num_variables/2),ncols=2,figsize=(15,25)) # specify the number of columns and rows according to the number of variables\n",
    "ax=ax.flatten()         # A trick to convert the matrix of axes (e.g. with dimensions (5,2) to a sequential list of (10,1)). \n",
    "i=0                     # start with the first set of plot axes (i.e. ax[0])\n",
    "for key in variable_list:\n",
    "    if seaice_data_monthly_201209[key].coords: # this checks that the variable contains coordinates. If $seaice_data_monthly_201209[key].coords is empty, it fails the condition. \n",
    "        seaice_data_monthly_201209[key].plot(ax=ax[i])\n",
    "        i=i+1  # increase i to plot on the next set of plot axes (i.e. ax[i+1])"
   ]
  },
  {
   "cell_type": "code",
   "execution_count": null,
   "id": "4ee8d9cb-acf9-410e-84b1-aa450c12f0d0",
   "metadata": {},
   "outputs": [],
   "source": []
  }
 ],
 "metadata": {
  "kernelspec": {
   "display_name": "Python [conda env:course2025] *",
   "language": "python",
   "name": "conda-env-course2025-py"
  },
  "language_info": {
   "codemirror_mode": {
    "name": "ipython",
    "version": 3
   },
   "file_extension": ".py",
   "mimetype": "text/x-python",
   "name": "python",
   "nbconvert_exporter": "python",
   "pygments_lexer": "ipython3",
   "version": "3.13.3"
  }
 },
 "nbformat": 4,
 "nbformat_minor": 5
}
