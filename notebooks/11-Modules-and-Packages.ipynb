{
 "cells": [
  {
   "cell_type": "markdown",
   "metadata": {},
   "source": [
    "# Modules and Packages"
   ]
  },
  {
   "cell_type": "markdown",
   "metadata": {},
   "source": [
    "One of the reasons Python is so versatile is the broad ecosystem of packages that add more specialized functionality on top of the core Python we've been exploring so far. \n",
    "\n",
    "These include built-in modules like `math` and `os`, third party packages like `numpy` and `xarray`, as well as modules and packages that you could create yourself. \n",
    "\n",
    "Loosely, a module is a single .py file and a package is a collection of modules (.py files). Here, we'll explain a bit about why you'd want to use them and how to access them."
   ]
  },
  {
   "cell_type": "markdown",
   "metadata": {},
   "source": [
    "### Why modules and packages?"
   ]
  },
  {
   "cell_type": "markdown",
   "metadata": {},
   "source": [
    "Putting all the code for a small project in just one notebook might make sense, but what happens when your project starts getting more complicated? \n",
    "\n",
    "Say I want to do some (very complicated) ceiling division in this notebook:"
   ]
  },
  {
   "cell_type": "markdown",
   "metadata": {},
   "source": [
    "`3 // 2`  # provides floor division, result is 1  \n",
    "`3 ?? 2`  # there is no equivalent operator for ceiling division... (result would be 2)"
   ]
  },
  {
   "cell_type": "markdown",
   "metadata": {},
   "source": [
    "We could define a function to do this ourselves, e.g.:"
   ]
  },
  {
   "cell_type": "code",
   "execution_count": null,
   "metadata": {},
   "outputs": [],
   "source": [
    "def ceiling_division(x, y):\n",
    "    if (x % y) > 0:\n",
    "        return x // y + 1\n",
    "    else:\n",
    "        return x / y"
   ]
  },
  {
   "cell_type": "code",
   "execution_count": null,
   "metadata": {},
   "outputs": [],
   "source": [
    "ceiling_division(3, 2)"
   ]
  },
  {
   "cell_type": "markdown",
   "metadata": {},
   "source": [
    "But this function actually already exists in Python's built-in `math` module, so we can make it available using `import`. This saves us having to write out the function above in our notebook/script which makes the end result easier to read, and also means we can import this function in any script/notebook we create."
   ]
  },
  {
   "cell_type": "code",
   "execution_count": null,
   "metadata": {},
   "outputs": [],
   "source": [
    "import math\n",
    "math.ceil(3/2)"
   ]
  },
  {
   "cell_type": "markdown",
   "metadata": {},
   "source": [
    "### Loading Modules: the `import` Statement\n",
    "\n",
    "We load modules Python using the `import` statement. \n",
    "\n",
    "When you call [`import`](https://docs.python.org/3/reference/import.html), Python searches through all the places it knows to look for modules and packages (the `PATH` environment variable), then runs the module or package you're importing and makes all the functions and classes in the module/package available to you.\n",
    "\n",
    "Depending on whether you want access to a single module, or a selection from within a module or package, there are a few ways you can import into your program. "
   ]
  },
  {
   "cell_type": "code",
   "execution_count": null,
   "metadata": {},
   "outputs": [],
   "source": [
    "# some ways to import things\n",
    "import os  # import a module\n",
    "from os import path  # import a specific function/class from a module (or a module from a package)\n",
    "import statistics as stats  # import a module and give it a short alias\n",
    "from statistics import mean, median  # import multiple by seperating with a comma\n",
    "from statistics import mean as mn  # import a function from a module and give it a short alias"
   ]
  },
  {
   "cell_type": "markdown",
   "metadata": {},
   "source": [
    "Once you've imported a package/module you can access anything inside it using dot notation. "
   ]
  },
  {
   "cell_type": "code",
   "execution_count": null,
   "metadata": {},
   "outputs": [],
   "source": [
    "import math  # already imported it earlier but just to be sure\n",
    "math.cos(math.pi)"
   ]
  },
  {
   "cell_type": "code",
   "execution_count": null,
   "metadata": {},
   "outputs": [],
   "source": [
    "# check what we have imported from math? \n",
    "# type(math.cos)\n",
    "# type(math.pi)"
   ]
  },
  {
   "cell_type": "markdown",
   "metadata": {},
   "source": [
    "#### Exercise 1\n",
    "Import the built in `sys` module and use the module's path attribute to see where Python's `import` is searching for modules, functions and classes."
   ]
  },
  {
   "cell_type": "code",
   "execution_count": null,
   "metadata": {},
   "outputs": [],
   "source": [
    "# your code here\n",
    "\n",
    "\n",
    "\n"
   ]
  },
  {
   "cell_type": "markdown",
   "metadata": {},
   "source": [
    "### Note of Caution...\n",
    "\n",
    "There is one other kind of import not mentioned above which is the * import. This imports everything inside a module and lets you access it without having to preface with with the module name. This is normally **very confusing** and should be avoided.  \n",
    "e.g. \n",
    "```python\n",
    "from math import *\n",
    "```"
   ]
  },
  {
   "cell_type": "markdown",
   "metadata": {},
   "source": [
    "This is bad because you don't know where your function has come from, you might overwrite functions accidentally, and it might take a long time if there are a lot of things to import.  \n",
    "Example:"
   ]
  },
  {
   "cell_type": "code",
   "execution_count": null,
   "metadata": {},
   "outputs": [],
   "source": [
    "help(sum)"
   ]
  },
  {
   "cell_type": "markdown",
   "metadata": {},
   "source": [
    "We can use this to compute the sum of a sequence, starting with a certain value (here, we'll start with ``-1``):"
   ]
  },
  {
   "cell_type": "code",
   "execution_count": null,
   "metadata": {},
   "outputs": [],
   "source": [
    "sum(range(5), -1)"
   ]
  },
  {
   "cell_type": "markdown",
   "metadata": {},
   "source": [
    "Now observe what happens if we make the *exact same function call* after importing ``*`` from ``numpy``:"
   ]
  },
  {
   "cell_type": "code",
   "execution_count": null,
   "metadata": {},
   "outputs": [],
   "source": [
    "from numpy import *"
   ]
  },
  {
   "cell_type": "code",
   "execution_count": null,
   "metadata": {},
   "outputs": [],
   "source": [
    "sum(range(5), -1)"
   ]
  },
  {
   "cell_type": "markdown",
   "metadata": {},
   "source": [
    "The result is off by one!\n",
    "The reason for this is that the ``import *`` statement *replaces* the built-in ``sum`` function with the ``numpy.sum`` function, which has a different call signature: in the former, we're summing ``range(5)`` starting at ``-1``; in the latter, we're summing ``range(5)`` along the last axis (indicated by ``-1``). \n",
    "\n",
    "The moral is don't use `import *` unless you have a ***very good reason***!"
   ]
  },
  {
   "cell_type": "markdown",
   "metadata": {},
   "source": [
    "## Reusing your own code"
   ]
  },
  {
   "cell_type": "markdown",
   "metadata": {},
   "source": [
    "If you want to write larger and better organized programs, and define objects (variables, functions, classes) that you want to reuse several times, you can create your own modules. There are a few reasons why you'd want to start creating your own modules and packages:\n",
    "#### Readability\n",
    "Taking function and class definitions out of a 'main' script and storing them somewhere else makes the logic of your 'main' script much easier to follow. If whoever is reading the 'main' script (including you) doesn't need to see the details of how a function works, then it might make sense to put it somewhere else. This is sometimes called abstraction.\n",
    "#### Maintainability\n",
    "By seperating the logic of your project out into individual chunks (modules) you can make it easier to maintain.\n",
    "- If the code related to different parts of your program lives in seperate modules, you know where to look to fix problems with specific functionality\n",
    "- Each module is seperate from other modules, which forces you to clear up any messy dependencies between parts of the program \n",
    "\n",
    "#### Shareability\n",
    "If you want to give someone else access to the code you've written, you can share a ready to run module or package with them."
   ]
  },
  {
   "cell_type": "markdown",
   "metadata": {},
   "source": [
    "```python\n",
    "# example of a main script that you're pulling other modules into\n",
    "import currents\n",
    "import tides\n",
    "import winds\n",
    "\n",
    "wind_data = winds.get_wind_data()\n",
    "tide_data = tides.get_tide_data()\n",
    "current_data = currents.get_current_data()\n",
    "```"
   ]
  },
  {
   "cell_type": "markdown",
   "metadata": {},
   "source": [
    "#### Exercise 2\n",
    "Let's create a new module called `newmod`.\n",
    "```python\n",
    "# A demo module\n",
    "\n",
    "def show_me_a():\n",
    "    \"\"\"Prints a.\"\"\"\n",
    "    print('a')\n",
    "    \n",
    "def show_me_b():\n",
    "    \"\"\"Prints b.\"\"\"\n",
    "    print('b')\n",
    "\n",
    "CONSTANT = 2\n",
    "\n",
    "```"
   ]
  },
  {
   "cell_type": "markdown",
   "metadata": {},
   "source": [
    "To do this we need to create a new file called called newmod.py (a module is just a .py file).  \n",
    "\n",
    "Create newmod.py in the same folder as this notebook using Jupyter Notebook or a text editor.  \n",
    "\n",
    " * In Jupyter e.g. File -> New -> python file  \n",
    " * In Windows e.g. use Notepad to save a new file as 'All files' and my_module.py\n",
    "\n",
    "Copy the Python code above into the file."
   ]
  },
  {
   "cell_type": "markdown",
   "metadata": {},
   "source": [
    "Suppose we want to call the `show_me_a` function from the interpreter. We could execute the file as a script, but since we just want to have access to the function `show_me_a`, we import it as a module. \n",
    "\n",
    "The syntax is as follows:"
   ]
  },
  {
   "cell_type": "code",
   "execution_count": null,
   "metadata": {},
   "outputs": [],
   "source": [
    "import newmod\n",
    "\n",
    "#  now we have access to everything inside the demo module!\n",
    "\n",
    "newmod.show_me_a()\n",
    "\n",
    "newmod.CONSTANT"
   ]
  },
  {
   "cell_type": "markdown",
   "metadata": {},
   "source": [
    "Try adding more content to `newmod` and see if you can access within this notebook? "
   ]
  },
  {
   "cell_type": "markdown",
   "metadata": {},
   "source": [
    "## Importing from Python's Standard Library\n",
    "\n",
    "Python's standard library contains many useful built-in modules. To name but a few:\n",
    "\n",
    "- ``argparse``: Parser for command-line options, arguments and sub-commands\n",
    "- ``random``: generating pseudorandom numbers\n",
    "- ``json`` and ``csv``: reading/writing JSON-formatted and CSV-formatted files.\n",
    "- ``os`` and ``sys``: interfacing with the operating system\n",
    "- ``math`` and ``cmath``: mathematical operations on real and complex numbers\n",
    "- ``itertools``: constructing and interacting with iterators and generators\n",
    "- ``pickle``: object persistence: saving objects to and loading objects from disk\n",
    "\n",
    "More: https://docs.python.org/3/library/."
   ]
  },
  {
   "cell_type": "markdown",
   "metadata": {},
   "source": [
    "## Installing Third-Party Packages"
   ]
  },
  {
   "cell_type": "markdown",
   "metadata": {},
   "source": [
    "### PyPI - The Python Package Index"
   ]
  },
  {
   "cell_type": "markdown",
   "metadata": {},
   "source": [
    "* Often, when you want to code something, there is already a package that does it, so no need to reinvent the wheel!\n",
    "* There are >90,000 packages out there!\n",
    "* Various scientific libraries can be imported just as the built-in modules, but first the modules must be installed on your system.\n",
    "* The standard registry for such modules is the Python Package Index (*PyPI* for short):  http://pypi.python.org/.\n",
    "* For convenience, Python comes with a program called ``pip`` (a recursive acronym meaning \"pip installs packages\"), which will automatically fetch packages released and listed on PyPI."
   ]
  },
  {
   "cell_type": "markdown",
   "metadata": {},
   "source": [
    "For example, if you'd like to install a nice package to work with physical units, [``pint``](https://pint.readthedocs.io/en/0.7.2/), you could type the following at the command line:\n",
    "```\n",
    "$ pip install pint\n",
    "```\n",
    "The source code for the package will then be automatically downloaded from the PyPI repository, and the package installed in the standard Python path."
   ]
  },
  {
   "cell_type": "markdown",
   "metadata": {},
   "source": [
    "### Virtual environments"
   ]
  },
  {
   "cell_type": "markdown",
   "metadata": {},
   "source": [
    "Using pip to install packages in your standard Python path can become very messy if you need lots of different packages (as scientific Python often does). \n",
    "\n",
    "Virtual environments were developed to avoid this issue. You set up a virtual environment to contain whatever packages you need. These are seperate from your base python and any other virtual environments you create. \n",
    "\n",
    "There are a couple of options available to do this. You will all have tried one when preparing for this course! "
   ]
  },
  {
   "cell_type": "markdown",
   "metadata": {},
   "source": [
    "#### venv\n",
    "This is a basic way of creating virtual environments that comes with Python. If you need something lightweight or can't install anything other than Python, you can [try it](https://packaging.python.org/en/latest/tutorials/installing-packages/#creating-and-using-virtual-environments). Otherwise, we'd recommend using one of the options below.  \n"
   ]
  },
  {
   "cell_type": "markdown",
   "metadata": {},
   "source": [
    "#### Anaconda & conda"
   ]
  },
  {
   "cell_type": "markdown",
   "metadata": {},
   "source": [
    "conda is like venv in that it can create virtual environments, but it is also a package manager like pip. You can use conda to create environments *and* install packages in them. \n",
    "\n",
    "The benefit also is that it's pretty good at finding ways of sticking all the packages you need together in an environment, checking for dependencies (even if it is a little slow about it). \n",
    "\n",
    "Anaconda is a [data science platform](https://www.anaconda.com/) that includes a Python distribution, uses conda, comes with loads of Python packages/R support and also a graphical user interface that's easy to navigate for new starters. \n",
    "\n",
    "**Note:** There can be [costs](https://www.anaconda.com/pricing) involved, depending on use. "
   ]
  },
  {
   "cell_type": "markdown",
   "metadata": {},
   "source": [
    "#### Mamba\n",
    "[Mamba](https://github.com/mamba-org/mamba) is a package/environment manager that works a lot like conda but is faster. It's still relatively young but is quickly becoming a free (and more lightweight) alternative to Anaconda+conda."
   ]
  },
  {
   "cell_type": "markdown",
   "metadata": {},
   "source": [
    "## A simple conda example\n",
    "To make use of the excellent [interpolation tools](https://unidata.github.io/MetPy/latest/examples/gridding/Point_Interpolation.html?highlight=barnes) from the [``MetPy``](https://unidata.github.io/MetPy/latest/) meteorological library takes threee steps:\n",
    "1. Install the package on your system\n",
    "```\n",
    "$ conda install -c conda-forge metpy \n",
    "```\n",
    "2. Import the desired fucntion from the metpy pacakge to your workspace\n",
    "```ipython\n",
    "from metpy.interpolate import interpolate_to_grid\n",
    "```\n",
    "3. Use the function on your data\n",
    "```ipython\n",
    "x_grid,y_grid,temp_grid = interpolate_to_grid(x,y,temp,interp_type='barnes',search_radius=8)\n",
    "```"
   ]
  },
  {
   "cell_type": "markdown",
   "metadata": {},
   "source": [
    "## How to install multiple modules and packages for use in your environment? \n",
    "\n",
    "You've all done this already, when creating the environment for this course! \n",
    "\n",
    "As a reminder, you can find the instructions on how to create your environment on the course website, [here](https://ueapy.github.io/pythoncourse2025-website/installation/#13-create-the-environment). \n",
    "\n",
    "There are two ways you can create a new environment, either: \n",
    "\n",
    "1. List the modules and packages needed in your new_environment.yml file, then follow the same steps as linked above.\n",
    "    * Note that unlike modules, the name of the environment is set *within the file*, not by the filename.\n",
    "    * See the content of [environment.yml](../environment.yml) as an example.  \n",
    "\n",
    "or, if the list of modules/packages isn't too long,  \n",
    "\n",
    "2. Use the following to create your environment on the command line:\n",
    "    * Using conda: `conda create -n envname <list of packages>`\n",
    "    * Or, using mamba: `mamba create -n envname <list of packages>` \n",
    "\n",
    "\n"
   ]
  },
  {
   "cell_type": "markdown",
   "metadata": {},
   "source": [
    "## References\n",
    "* *A Whirlwind Tour of Python* by Jake VanderPlas (O’Reilly). Copyright 2016 O’Reilly Media, Inc., 978-1-491-96465-1\n",
    "* [Conda: Myths and Misconceptions](https://jakevdp.github.io/blog/2016/08/25/conda-myths-and-misconceptions/)"
   ]
  }
 ],
 "metadata": {
  "anaconda-cloud": {},
  "kernelspec": {
   "display_name": "Python [conda env:course2025] *",
   "language": "python",
   "name": "conda-env-course2025-py"
  },
  "language_info": {
   "codemirror_mode": {
    "name": "ipython",
    "version": 3
   },
   "file_extension": ".py",
   "mimetype": "text/x-python",
   "name": "python",
   "nbconvert_exporter": "python",
   "pygments_lexer": "ipython3",
   "version": "3.13.3"
  }
 },
 "nbformat": 4,
 "nbformat_minor": 4
}
