{
 "cells": [
  {
   "attachments": {},
   "cell_type": "markdown",
   "metadata": {},
   "source": [
    "## Exercise 1 - Endless input\n",
    "\n",
    "Request the user to type in a number and print out the square root to 3 decimal places\n",
    "\n",
    "e.g.,\n",
    "\n",
    "    Square root of 10 = 3.141\n",
    "\n",
    "Keep requesting numbers until the kernel is interrupted (or no input provided)."
   ]
  },
  {
   "cell_type": "code",
   "execution_count": null,
   "metadata": {},
   "outputs": [],
   "source": [
    "# your code\n",
    "\n"
   ]
  },
  {
   "attachments": {},
   "cell_type": "markdown",
   "metadata": {},
   "source": [
    "## Exercise 2 - Check input\n",
    "\n",
    "Modify your answer to the previous exercise so that you only consider positive numbers to be valid input, prompting for new input if the input is negative. "
   ]
  },
  {
   "cell_type": "code",
   "execution_count": null,
   "metadata": {},
   "outputs": [],
   "source": [
    "# your code\n",
    "\n"
   ]
  },
  {
   "attachments": {},
   "cell_type": "markdown",
   "metadata": {},
   "source": [
    "##  Exercise 3 - Calculate the square root of 100 numbers\n",
    "\n",
    "- Calculate the square root of each number between 0 and 100, without prompting for user input. \n",
    " \n",
    "- Save your answer to a new list, `squareroots`.\n"
   ]
  },
  {
   "cell_type": "code",
   "execution_count": 1,
   "metadata": {},
   "outputs": [],
   "source": [
    "# your code\n",
    "# Hint: Refer to 06-Built-in-Data-Structures.ipynb for a reminder on how to concatenate lists?\n",
    "\n"
   ]
  }
 ],
 "metadata": {
  "kernelspec": {
   "display_name": "Python [conda env:course2025] *",
   "language": "python",
   "name": "conda-env-course2025-py"
  },
  "language_info": {
   "codemirror_mode": {
    "name": "ipython",
    "version": 3
   },
   "file_extension": ".py",
   "mimetype": "text/x-python",
   "name": "python",
   "nbconvert_exporter": "python",
   "pygments_lexer": "ipython3",
   "version": "3.13.3"
  }
 },
 "nbformat": 4,
 "nbformat_minor": 4
}
