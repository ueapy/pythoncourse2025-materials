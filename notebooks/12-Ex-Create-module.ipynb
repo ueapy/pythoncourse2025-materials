{
 "cells": [
  {
   "attachments": {},
   "cell_type": "markdown",
   "metadata": {},
   "source": [
    "# OPTIONAL EXTRA: create a module and reuse code from it"
   ]
  },
  {
   "attachments": {},
   "cell_type": "markdown",
   "metadata": {},
   "source": [
    "Extend the exercise from today by applying what you've just learned about packages and code reusability."
   ]
  },
  {
   "attachments": {},
   "cell_type": "markdown",
   "metadata": {},
   "source": [
    "## Outline"
   ]
  },
  {
   "attachments": {},
   "cell_type": "markdown",
   "metadata": {},
   "source": [
    "1. Put your `calc_co2e` function into a new module (.py file)\n",
    "2. Create a new function that calculates the distance between two cities\n",
    "3. Use `import` to access these functions from another file or a notebook"
   ]
  },
  {
   "attachments": {},
   "cell_type": "markdown",
   "metadata": {},
   "source": [
    "**1. Put your `calc_co2e` function into a new module**  \n",
    "Create a module called flight_calcs.py to hold your `calc_co2e` function. A few ways to do this:\n",
    "- In Jupyter e.g. !echo # Flight calculations > flight_calcs.py\n",
    "- You can use Jupyter notebook Home page to create a New->Text File in the same directory as this notebook.\n",
    "    - The file can then be renamed from untitled.txt to flight_calc.py in the page's File menu.\n",
    "- In Windows e.g. use Notepad to save a new file as 'All files' and flight_calcs.py\n",
    "\n",
    "Once you've made flight_calcs.py put the calc_co2e function you made into it (or use the one below from the solutions)."
   ]
  },
  {
   "cell_type": "code",
   "execution_count": null,
   "metadata": {},
   "outputs": [],
   "source": []
  },
  {
   "attachments": {},
   "cell_type": "markdown",
   "metadata": {},
   "source": [
    "**2. Create a new function that calculates the distance between two cities**"
   ]
  },
  {
   "attachments": {},
   "cell_type": "markdown",
   "metadata": {},
   "source": [
    "This is a two step process. Calculate co-ordinates of locations then find the distance between those co-ordinates.\n",
    "* The function `get_latlon` is provided to obtain the latitude and logitude for a given location from the openstreetmap.org API.\n",
    "* Test this function for several locations\n",
    "* NB `import` statements should almost always go [at the top of your module](https://peps.python.org/pep-0008/#imports), so when you copy the cell below into your module you should put the two import statements above calc_co2e(). "
   ]
  },
  {
   "cell_type": "code",
   "execution_count": 1,
   "metadata": {},
   "outputs": [],
   "source": []
  },
  {
   "cell_type": "code",
   "execution_count": 2,
   "metadata": {},
   "outputs": [
    {
     "data": {
      "text/plain": [
       "(90.0, 0.0)"
      ]
     },
     "execution_count": 2,
     "metadata": {},
     "output_type": "execute_result"
    }
   ],
   "source": [
    "# Check this works\n",
    "get_latlon('North Pole')"
   ]
  },
  {
   "attachments": {},
   "cell_type": "markdown",
   "metadata": {},
   "source": [
    "Write a function `calc_dist` that takes place names as arguments, uses `get_latlon` to find the co-ordinates of the two places, then calculates the distance between them using a Great Circle approximation for the Earth."
   ]
  },
  {
   "cell_type": "code",
   "execution_count": null,
   "metadata": {},
   "outputs": [],
   "source": []
  },
  {
   "attachments": {},
   "cell_type": "markdown",
   "metadata": {},
   "source": [
    "Check that your function is working"
   ]
  },
  {
   "cell_type": "code",
   "execution_count": null,
   "metadata": {},
   "outputs": [],
   "source": [
    "calc_dist('London', 'Auckland')"
   ]
  },
  {
   "cell_type": "code",
   "execution_count": 7,
   "metadata": {},
   "outputs": [
    {
     "data": {
      "text/plain": [
       "<module 'flight_calcs' from 'C:\\\\Users\\\\tams00\\\\OneDrive - CEFAS\\\\git\\\\pythoncourse2022-materials\\\\notebooks\\\\flight_calcs.py'>"
      ]
     },
     "execution_count": 7,
     "metadata": {},
     "output_type": "execute_result"
    }
   ],
   "source": [
    "#Because you wil be modifying and reloading your flight_calc module  you can use this to force reimporting after changes:\n",
    "\n",
    "import flight_calcs\n",
    "import importlib\n",
    "importlib.reload(flight_calcs)\n",
    "\n",
    "flight_calcs\n",
    "\n",
    "\n",
    "\n"
   ]
  },
  {
   "attachments": {},
   "cell_type": "markdown",
   "metadata": {},
   "source": [
    "**3. Use `import` to access these functions from another file or a notebook**\n",
    "* Copy the three functions `get_latlon`,`calc_dist` and `calc_co2e` to flight_calcs.py\n",
    "* Use import to access these functions from another file or a notebook\n",
    "* Call `calc_dist` followed by `calc_co2e` to calculate carbon emissions between two locations"
   ]
  },
  {
   "cell_type": "code",
   "execution_count": null,
   "metadata": {},
   "outputs": [],
   "source": []
  },
  {
   "attachments": {},
   "cell_type": "markdown",
   "metadata": {},
   "source": [
    "**Bonus**"
   ]
  },
  {
   "cell_type": "code",
   "execution_count": null,
   "metadata": {},
   "outputs": [],
   "source": [
    "import json"
   ]
  },
  {
   "attachments": {},
   "cell_type": "markdown",
   "metadata": {},
   "source": [
    "Explore what json.dump() does."
   ]
  }
 ],
 "metadata": {
  "anaconda-cloud": {},
  "kernelspec": {
   "display_name": "Python [conda env:course2025] *",
   "language": "python",
   "name": "conda-env-course2025-py"
  },
  "language_info": {
   "codemirror_mode": {
    "name": "ipython",
    "version": 3
   },
   "file_extension": ".py",
   "mimetype": "text/x-python",
   "name": "python",
   "nbconvert_exporter": "python",
   "pygments_lexer": "ipython3",
   "version": "3.13.3"
  }
 },
 "nbformat": 4,
 "nbformat_minor": 4
}
