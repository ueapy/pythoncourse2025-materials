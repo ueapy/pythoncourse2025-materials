{
 "cells": [
  {
   "cell_type": "markdown",
   "id": "6578b9ee-5870-44b9-8551-332572dee474",
   "metadata": {},
   "source": [
    "## Solution to Exercise 1 - Endless input"
   ]
  },
  {
   "cell_type": "markdown",
   "id": "57002801-7414-47da-9714-f8ec1f26b009",
   "metadata": {},
   "source": [
    "Request the user to type in a number and print out the square root to 3 decimal places\n",
    "\n",
    "e.g.,\n",
    "\n",
    "    Square root of 10 = 3.141\n",
    "\n",
    "Keep requesting numbers until the kernel is interrupted (or no input provided)."
   ]
  },
  {
   "cell_type": "code",
   "execution_count": null,
   "id": "90c2bfaf-13a2-4d7f-913e-5d290111765a",
   "metadata": {},
   "outputs": [],
   "source": [
    "# your code\n",
    "\n",
    "while True:\n",
    "    print('Please provide a number: ')\n",
    "    parameter = input() \n",
    "    squareroot = float( parameter )**0.5\n",
    "    print( f\"Square root of {parameter} = {squareroot:.3}\" )"
   ]
  },
  {
   "cell_type": "markdown",
   "id": "f1e40ea3-7321-40a2-8534-e245ae14ba21",
   "metadata": {},
   "source": [
    "<br>\n",
    "<br>\n",
    "<br>\n",
    "<br>\n",
    "<br>\n",
    "<br>\n",
    "<br>\n",
    "<br>\n",
    "<br>\n",
    "<br>\n",
    "<br>\n",
    "<br>\n",
    "<br>\n",
    "<br>\n",
    "<br>\n",
    "\n",
    "## Solution to Exercise 2 - Validate input\n",
    "\n",
    "Modify your answer to the previous exercise so that you only consider positive numbers to be valid input, prompting for new input if the input is negative. \n"
   ]
  },
  {
   "cell_type": "code",
   "execution_count": null,
   "id": "7ec9e179-3d95-440c-97ef-07bd48b20e23",
   "metadata": {},
   "outputs": [],
   "source": [
    "# your code\n",
    "\n",
    "while True:\n",
    "    print('Please provide a positive number: ')\n",
    "    parameter = input() \n",
    "    if float(parameter) >= 0:\n",
    "        squareroot = float( parameter )**0.5\n",
    "        print( f\"Square root of {parameter} = {squareroot:.3}\" )\n",
    "    else: \n",
    "        print('That number is not positive! Try again...')\n"
   ]
  },
  {
   "cell_type": "markdown",
   "id": "f5be8444-a99a-490c-9e89-3adaa7404d06",
   "metadata": {},
   "source": [
    "<br>\n",
    "<br>\n",
    "<br>\n",
    "<br>\n",
    "<br>\n",
    "<br>\n",
    "<br>\n",
    "<br>\n",
    "<br>\n",
    "<br>\n",
    "<br>\n",
    "<br>\n",
    "<br>\n",
    "<br>\n",
    "<br>\n",
    "<br>\n",
    "<br>\n",
    "<br>\n",
    "<br>\n",
    "\n",
    "## Solution to Exercise 3 - Calculate the square root of 100 numbers\n",
    "\n",
    "- Calculate the square root of each number between 0 and 100, without prompting for user input. \n",
    " \n",
    "- Save the answer to a new list, `squareroots`."
   ]
  },
  {
   "cell_type": "code",
   "execution_count": null,
   "id": "702f5d57-f6d1-4658-89c1-0728ed973dcb",
   "metadata": {},
   "outputs": [],
   "source": [
    "# your code\n",
    "# Hint: Refer to 06-Built-in-Data-Structures.ipynb for a reminder on how to concatenate lists?\n",
    "\n",
    "squareroots = []\n",
    "\n",
    "for n in range(100): \n",
    "    squareroot = n**0.5\n",
    "    squareroots = squareroots + [squareroot]\n",
    "\n",
    "print(squareroots)"
   ]
  },
  {
   "cell_type": "code",
   "execution_count": null,
   "id": "b6a6ad4e-41f7-40be-bc76-cde4646e2e47",
   "metadata": {},
   "outputs": [],
   "source": []
  }
 ],
 "metadata": {
  "kernelspec": {
   "display_name": "Python [conda env:course2025] *",
   "language": "python",
   "name": "conda-env-course2025-py"
  },
  "language_info": {
   "codemirror_mode": {
    "name": "ipython",
    "version": 3
   },
   "file_extension": ".py",
   "mimetype": "text/x-python",
   "name": "python",
   "nbconvert_exporter": "python",
   "pygments_lexer": "ipython3",
   "version": "3.13.3"
  }
 },
 "nbformat": 4,
 "nbformat_minor": 5
}
